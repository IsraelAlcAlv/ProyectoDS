{
  "nbformat": 4,
  "nbformat_minor": 0,
  "metadata": {
    "colab": {
      "provenance": [],
      "authorship_tag": "ABX9TyNkk34h3JanmYnoy3dZDmbQ",
      "include_colab_link": true
    },
    "kernelspec": {
      "name": "python3",
      "display_name": "Python 3"
    },
    "language_info": {
      "name": "python"
    }
  },
  "cells": [
    {
      "cell_type": "markdown",
      "metadata": {
        "id": "view-in-github",
        "colab_type": "text"
      },
      "source": [
        "<a href=\"https://colab.research.google.com/github/IsraelAlcAlv/ProyectoDS/blob/main/ProyectoDS.ipynb\" target=\"_parent\"><img src=\"https://colab.research.google.com/assets/colab-badge.svg\" alt=\"Open In Colab\"/></a>"
      ]
    },
    {
      "cell_type": "markdown",
      "source": [
        "### Tarjetahabientes crediticios\n",
        "##### La base de datos contiene información sobre distintos atributos de los tarjetahabiendes de cuentas de crédito con el objetivo de identificar aquellos que van a cancelar su cuenta."
      ],
      "metadata": {
        "id": "zj_WHbwCmJDH"
      }
    },
    {
      "cell_type": "code",
      "source": [
        "from google.colab import drive\n",
        "drive.mount('/content/drive')"
      ],
      "metadata": {
        "id": "eDpaDblHmn5J"
      },
      "execution_count": null,
      "outputs": []
    },
    {
      "cell_type": "code",
      "source": [
        "import pandas as pd\n",
        "import numpy as np"
      ],
      "metadata": {
        "id": "WqRjuNalm3-P"
      },
      "execution_count": 1,
      "outputs": []
    },
    {
      "cell_type": "code",
      "source": [
        "df_cc = pd.read_csv(\"/content/Credit_Card.csv\")"
      ],
      "metadata": {
        "id": "Z5D5LuFSm9db"
      },
      "execution_count": 10,
      "outputs": []
    },
    {
      "cell_type": "code",
      "source": [
        "df_cc.shape"
      ],
      "metadata": {
        "colab": {
          "base_uri": "https://localhost:8080/"
        },
        "id": "M5J1DxBknQLE",
        "outputId": "109f67c8-e773-4088-ba26-0bd7f2a6bae9"
      },
      "execution_count": 11,
      "outputs": [
        {
          "output_type": "execute_result",
          "data": {
            "text/plain": [
              "(10127, 23)"
            ]
          },
          "metadata": {},
          "execution_count": 11
        }
      ]
    },
    {
      "cell_type": "code",
      "source": [
        "df_cc.head"
      ],
      "metadata": {
        "colab": {
          "base_uri": "https://localhost:8080/"
        },
        "id": "NkoqN7PZnqO-",
        "outputId": "c098f70a-08fc-4cc8-bdd5-b47e5fefeb4f"
      },
      "execution_count": 12,
      "outputs": [
        {
          "output_type": "execute_result",
          "data": {
            "text/plain": [
              "<bound method NDFrame.head of        CLIENTNUM     Attrition_Flag  Customer_Age Gender  Dependent_count  \\\n",
              "0      768805383  Existing Customer            45      M                3   \n",
              "1      818770008  Existing Customer            49      F                5   \n",
              "2      713982108  Existing Customer            51      M                3   \n",
              "3      769911858  Existing Customer            40      F                4   \n",
              "4      709106358  Existing Customer            40      M                3   \n",
              "...          ...                ...           ...    ...              ...   \n",
              "10122  772366833  Existing Customer            50      M                2   \n",
              "10123  710638233  Attrited Customer            41      M                2   \n",
              "10124  716506083  Attrited Customer            44      F                1   \n",
              "10125  717406983  Attrited Customer            30      M                2   \n",
              "10126  714337233  Attrited Customer            43      F                2   \n",
              "\n",
              "      Education_Level Marital_Status Income_Category Card_Category  \\\n",
              "0         High School        Married     $60K - $80K          Blue   \n",
              "1            Graduate         Single  Less than $40K          Blue   \n",
              "2            Graduate        Married    $80K - $120K          Blue   \n",
              "3         High School        Unknown  Less than $40K          Blue   \n",
              "4          Uneducated        Married     $60K - $80K          Blue   \n",
              "...               ...            ...             ...           ...   \n",
              "10122        Graduate         Single     $40K - $60K          Blue   \n",
              "10123         Unknown       Divorced     $40K - $60K          Blue   \n",
              "10124     High School        Married  Less than $40K          Blue   \n",
              "10125        Graduate        Unknown     $40K - $60K          Blue   \n",
              "10126        Graduate        Married  Less than $40K        Silver   \n",
              "\n",
              "       Months_on_book  ...  Credit_Limit  Total_Revolving_Bal  \\\n",
              "0                  39  ...       12691.0                  777   \n",
              "1                  44  ...        8256.0                  864   \n",
              "2                  36  ...        3418.0                    0   \n",
              "3                  34  ...        3313.0                 2517   \n",
              "4                  21  ...        4716.0                    0   \n",
              "...               ...  ...           ...                  ...   \n",
              "10122              40  ...        4003.0                 1851   \n",
              "10123              25  ...        4277.0                 2186   \n",
              "10124              36  ...        5409.0                    0   \n",
              "10125              36  ...        5281.0                    0   \n",
              "10126              25  ...       10388.0                 1961   \n",
              "\n",
              "       Avg_Open_To_Buy  Total_Amt_Chng_Q4_Q1  Total_Trans_Amt  Total_Trans_Ct  \\\n",
              "0              11914.0                 1.335             1144              42   \n",
              "1               7392.0                 1.541             1291              33   \n",
              "2               3418.0                 2.594             1887              20   \n",
              "3                796.0                 1.405             1171              20   \n",
              "4               4716.0                 2.175              816              28   \n",
              "...                ...                   ...              ...             ...   \n",
              "10122           2152.0                 0.703            15476             117   \n",
              "10123           2091.0                 0.804             8764              69   \n",
              "10124           5409.0                 0.819            10291              60   \n",
              "10125           5281.0                 0.535             8395              62   \n",
              "10126           8427.0                 0.703            10294              61   \n",
              "\n",
              "       Total_Ct_Chng_Q4_Q1  Avg_Utilization_Ratio  \\\n",
              "0                    1.625                  0.061   \n",
              "1                    3.714                  0.105   \n",
              "2                    2.333                  0.000   \n",
              "3                    2.333                  0.760   \n",
              "4                    2.500                  0.000   \n",
              "...                    ...                    ...   \n",
              "10122                0.857                  0.462   \n",
              "10123                0.683                  0.511   \n",
              "10124                0.818                  0.000   \n",
              "10125                0.722                  0.000   \n",
              "10126                0.649                  0.189   \n",
              "\n",
              "       Naive_Bayes_Classifier_Attrition_Flag_Card_Category_Contacts_Count_12_mon_Dependent_count_Education_Level_Months_Inactive_12_mon_1  \\\n",
              "0                                               0.000093                                                                                    \n",
              "1                                               0.000057                                                                                    \n",
              "2                                               0.000021                                                                                    \n",
              "3                                               0.000134                                                                                    \n",
              "4                                               0.000022                                                                                    \n",
              "...                                                  ...                                                                                    \n",
              "10122                                           0.000191                                                                                    \n",
              "10123                                           0.995270                                                                                    \n",
              "10124                                           0.997880                                                                                    \n",
              "10125                                           0.996710                                                                                    \n",
              "10126                                           0.996620                                                                                    \n",
              "\n",
              "       Naive_Bayes_Classifier_Attrition_Flag_Card_Category_Contacts_Count_12_mon_Dependent_count_Education_Level_Months_Inactive_12_mon_2  \n",
              "0                                               0.999910                                                                                   \n",
              "1                                               0.999940                                                                                   \n",
              "2                                               0.999980                                                                                   \n",
              "3                                               0.999870                                                                                   \n",
              "4                                               0.999980                                                                                   \n",
              "...                                                  ...                                                                                   \n",
              "10122                                           0.999810                                                                                   \n",
              "10123                                           0.004729                                                                                   \n",
              "10124                                           0.002118                                                                                   \n",
              "10125                                           0.003294                                                                                   \n",
              "10126                                           0.003377                                                                                   \n",
              "\n",
              "[10127 rows x 23 columns]>"
            ]
          },
          "metadata": {},
          "execution_count": 12
        }
      ]
    },
    {
      "cell_type": "markdown",
      "source": [
        "##### Debido que la base de datos nos brinda información sobre las distintas característica de los tarjetahabientes en cuentas de crédito, como número de cliente, edad del cliente, si la cuenta está cerrada o no, etc., por lo que, nuestro objetivo será predecir aquella variable que nos indique que la cuenta ya se se cerró e identificar las caracteríscticas al rededor de ella, partiendo de aquí, considero que las mejores variables para el modelo serían:\n",
        "\n",
        "* Attrition_Flag: Si la cuenta está cerrada 1 sino 0,\n",
        "* CLIENTNUM: Número de cliente,\n",
        "* Customer_Age: Edad del cliente,\n",
        "* Gender: Género del cliente (M= Male, F= Female),\n",
        "* Education_Level: Nivel educativo del tarjetahabiente titular,\n",
        "* Marital_Status Estado civil (casado, soltero, etc.),\n",
        "* Income_Category: Ingresos anuales,\n",
        "* Card_Category: Tipo de tarjeta (Azul, Plateada, Dorada o Platino),\n",
        "* Months_on_book: Período de tiempo que ha sido cliente del banco,\n",
        "* Months_Inactive_12_mon: Número de los últimos 12 meses inactivo,\n",
        "* Credit_Limit: Limite de crédito en la tarjeta, \n",
        "* Total_Trans_Amt: Monto total de transacción en los últimos 12 meses,\n",
        "* Total_Trans_Ct: Total de transacciones realizadas los últimos 12 meses."
      ],
      "metadata": {
        "id": "pQXcw2ihmG86"
      }
    },
    {
      "cell_type": "markdown",
      "source": [
        "### Riesgo de Crédito\n",
        "##### El riesgo de crédito es aquel en el que las entidades financieras incurren al momento de dar préstamos o créditos a terceros, y el riesgo se encuentra cuando el préstamo no se devuelve a la entidad. \n",
        "\n",
        "##### La base de datos nos brinda información sobre clientes morosos y no morosos a los cuales se les ha dado un préstamo, y el objetivo es crear un modelo para predecir dicho riesgo para cierto tipo de clientes y otorgar el crédito. "
      ],
      "metadata": {
        "id": "In579CaNsIWY"
      }
    },
    {
      "cell_type": "code",
      "source": [
        "df_rc = pd.read_csv(\"/content/Loan_Defaulter.csv\")"
      ],
      "metadata": {
        "id": "KwOq09p2r9sW"
      },
      "execution_count": 13,
      "outputs": []
    },
    {
      "cell_type": "code",
      "source": [
        "df_rc.head"
      ],
      "metadata": {
        "colab": {
          "base_uri": "https://localhost:8080/"
        },
        "id": "tRD9Y3nUtcUW",
        "outputId": "f57a179f-1384-432c-f99e-d2b740546d9d"
      },
      "execution_count": 14,
      "outputs": [
        {
          "output_type": "execute_result",
          "data": {
            "text/plain": [
              "<bound method NDFrame.head of          SK_ID_PREV  SK_ID_CURR NAME_CONTRACT_TYPE  AMT_ANNUITY  \\\n",
              "0           2030495      271877     Consumer loans     1730.430   \n",
              "1           2802425      108129         Cash loans    25188.615   \n",
              "2           2523466      122040         Cash loans    15060.735   \n",
              "3           2819243      176158         Cash loans    47041.335   \n",
              "4           1784265      202054         Cash loans    31924.395   \n",
              "...             ...         ...                ...          ...   \n",
              "1670209     2300464      352015     Consumer loans    14704.290   \n",
              "1670210     2357031      334635     Consumer loans     6622.020   \n",
              "1670211     2659632      249544     Consumer loans    11520.855   \n",
              "1670212     2785582      400317         Cash loans    18821.520   \n",
              "1670213     2418762      261212         Cash loans    16431.300   \n",
              "\n",
              "         AMT_APPLICATION  AMT_CREDIT  AMT_DOWN_PAYMENT  AMT_GOODS_PRICE  \\\n",
              "0                17145.0     17145.0               0.0          17145.0   \n",
              "1               607500.0    679671.0               NaN         607500.0   \n",
              "2               112500.0    136444.5               NaN         112500.0   \n",
              "3               450000.0    470790.0               NaN         450000.0   \n",
              "4               337500.0    404055.0               NaN         337500.0   \n",
              "...                  ...         ...               ...              ...   \n",
              "1670209         267295.5    311400.0               0.0         267295.5   \n",
              "1670210          87750.0     64291.5           29250.0          87750.0   \n",
              "1670211         105237.0    102523.5           10525.5         105237.0   \n",
              "1670212         180000.0    191880.0               NaN         180000.0   \n",
              "1670213         360000.0    360000.0               NaN         360000.0   \n",
              "\n",
              "        WEEKDAY_APPR_PROCESS_START  HOUR_APPR_PROCESS_START  ...  \\\n",
              "0                         SATURDAY                       15  ...   \n",
              "1                         THURSDAY                       11  ...   \n",
              "2                          TUESDAY                       11  ...   \n",
              "3                           MONDAY                        7  ...   \n",
              "4                         THURSDAY                        9  ...   \n",
              "...                            ...                      ...  ...   \n",
              "1670209                  WEDNESDAY                       12  ...   \n",
              "1670210                    TUESDAY                       15  ...   \n",
              "1670211                     MONDAY                       12  ...   \n",
              "1670212                  WEDNESDAY                        9  ...   \n",
              "1670213                     SUNDAY                       10  ...   \n",
              "\n",
              "         NAME_SELLER_INDUSTRY  CNT_PAYMENT  NAME_YIELD_GROUP  \\\n",
              "0                Connectivity         12.0            middle   \n",
              "1                         XNA         36.0        low_action   \n",
              "2                         XNA         12.0              high   \n",
              "3                         XNA         12.0            middle   \n",
              "4                         XNA         24.0              high   \n",
              "...                       ...          ...               ...   \n",
              "1670209             Furniture         30.0        low_normal   \n",
              "1670210             Furniture         12.0            middle   \n",
              "1670211  Consumer electronics         10.0        low_normal   \n",
              "1670212                   XNA         12.0        low_normal   \n",
              "1670213                   XNA         48.0            middle   \n",
              "\n",
              "                 PRODUCT_COMBINATION  DAYS_FIRST_DRAWING DAYS_FIRST_DUE  \\\n",
              "0           POS mobile with interest            365243.0          -42.0   \n",
              "1                   Cash X-Sell: low            365243.0         -134.0   \n",
              "2                  Cash X-Sell: high            365243.0         -271.0   \n",
              "3                Cash X-Sell: middle            365243.0         -482.0   \n",
              "4                  Cash Street: high                 NaN            NaN   \n",
              "...                              ...                 ...            ...   \n",
              "1670209   POS industry with interest            365243.0         -508.0   \n",
              "1670210   POS industry with interest            365243.0        -1604.0   \n",
              "1670211  POS household with interest            365243.0        -1457.0   \n",
              "1670212             Cash X-Sell: low            365243.0        -1155.0   \n",
              "1670213          Cash X-Sell: middle            365243.0        -1163.0   \n",
              "\n",
              "        DAYS_LAST_DUE_1ST_VERSION  DAYS_LAST_DUE DAYS_TERMINATION  \\\n",
              "0                           300.0          -42.0            -37.0   \n",
              "1                           916.0       365243.0         365243.0   \n",
              "2                            59.0       365243.0         365243.0   \n",
              "3                          -152.0         -182.0           -177.0   \n",
              "4                             NaN            NaN              NaN   \n",
              "...                           ...            ...              ...   \n",
              "1670209                     362.0         -358.0           -351.0   \n",
              "1670210                   -1274.0        -1304.0          -1297.0   \n",
              "1670211                   -1187.0        -1187.0          -1181.0   \n",
              "1670212                    -825.0         -825.0           -817.0   \n",
              "1670213                     247.0         -443.0           -423.0   \n",
              "\n",
              "        NFLAG_INSURED_ON_APPROVAL  \n",
              "0                             0.0  \n",
              "1                             1.0  \n",
              "2                             1.0  \n",
              "3                             1.0  \n",
              "4                             NaN  \n",
              "...                           ...  \n",
              "1670209                       0.0  \n",
              "1670210                       0.0  \n",
              "1670211                       0.0  \n",
              "1670212                       1.0  \n",
              "1670213                       0.0  \n",
              "\n",
              "[1670214 rows x 37 columns]>"
            ]
          },
          "metadata": {},
          "execution_count": 14
        }
      ]
    },
    {
      "cell_type": "markdown",
      "source": [
        "##### De acuerdo al contexto y objetivo, se estima que las variables pertinantes para realizar el modelo son las siguiente:\n",
        "\n",
        "* SK_ID_CURR: ID del préstamo,\n",
        "* TARGET: Variable objetivo (1. Cliente con dificultades de pago, 0. los demás casos),\n",
        "* NAME_CONTRACT_TYPE: Si fue en efectivo o revolvente, \n",
        "* CODE_GENDER: Género\n",
        "* FLAG_OWN_REALTY: Si el cliente tiene casa o piso, \n",
        "* CNT_CHILDREN: Número de hijos, \n",
        "* AMT_INCOME_TOTAL: Ingresos del cliente, \n",
        "* AMT_CREDIT: Monto del crédito,\n",
        "* AMT_GOODS_PRICE: Precio para lo cual se usará el crédito, \n",
        "* NAME_INCOME_TYPE: Tipo de ingreso del cliente (Empresario, empleado, etc.),\n",
        "* NAME_EDUCATION_TYPE: Nivel educativo, \n",
        "* NAME_HOUSING_TYPE: Situación de vivienda del cliente (vive con sus padres, renta, etc.), \n",
        "* DAYS_BIRTH: Edad dle cliente (al momento de la aplicación), \n",
        "* DAYS_EMPLOYED: Días laborando (al momento de la aplicación), \n",
        "* FLAG_MOBIL: Si el cliente dió número telefonico (1= Sí, 0=NO),\n",
        "* FLAG_EMAIL Si el cliente dió email (1= Sí, 0=NO),\n",
        "\n"
      ],
      "metadata": {
        "id": "TCdzGQsEtjRi"
      }
    },
    {
      "cell_type": "markdown",
      "source": [
        "### Siniestros del Seguro de Automóviles\n",
        "##### La base de datos contiene información sobre clientes con seguros de autos, como vigencia de la póliza, antiguedad del vehículo, la densidad poblacional de donde radica, etc., con el próposito de predecir las reclamaciones o siniestros, sobre esa póliza. \n",
        " "
      ],
      "metadata": {
        "id": "kWMKcJn7wYW0"
      }
    },
    {
      "cell_type": "code",
      "source": [
        "df_car = pd.read_csv(\"/content/Car_Claim.csv\")"
      ],
      "metadata": {
        "id": "WVu_BuaVyBMi"
      },
      "execution_count": 15,
      "outputs": []
    },
    {
      "cell_type": "code",
      "source": [
        "df_car.head"
      ],
      "metadata": {
        "colab": {
          "base_uri": "https://localhost:8080/"
        },
        "id": "BDi9gDHIyMEo",
        "outputId": "4bebdc7c-1dd5-4ea2-a6da-8de58fdd0738"
      },
      "execution_count": 16,
      "outputs": [
        {
          "output_type": "execute_result",
          "data": {
            "text/plain": [
              "<bound method NDFrame.head of       policy_id  policy_tenure  age_of_car  age_of_policyholder area_cluster  \\\n",
              "0       ID00001       0.515874        0.05             0.644231           C1   \n",
              "1       ID00002       0.672619        0.02             0.375000           C2   \n",
              "2       ID00003       0.841110        0.02             0.384615           C3   \n",
              "3       ID00004       0.900277        0.11             0.432692           C4   \n",
              "4       ID00005       0.596403        0.11             0.634615           C5   \n",
              "...         ...            ...         ...                  ...          ...   \n",
              "58587   ID58588       0.355089        0.13             0.644231           C8   \n",
              "58588   ID58589       1.199642        0.02             0.519231          C14   \n",
              "58589   ID58590       1.162273        0.05             0.451923           C5   \n",
              "58590   ID58591       1.236307        0.14             0.557692           C8   \n",
              "58591   ID58592       0.124429        0.02             0.442308           C8   \n",
              "\n",
              "       population_density  make segment model fuel_type  ... is_brake_assist  \\\n",
              "0                    4990     1       A    M1       CNG  ...              No   \n",
              "1                   27003     1       A    M1       CNG  ...              No   \n",
              "2                    4076     1       A    M1       CNG  ...              No   \n",
              "3                   21622     1      C1    M2    Petrol  ...             Yes   \n",
              "4                   34738     2       A    M3    Petrol  ...              No   \n",
              "...                   ...   ...     ...   ...       ...  ...             ...   \n",
              "58587                8794     2       A    M3    Petrol  ...              No   \n",
              "58588                7788     1       A    M1       CNG  ...              No   \n",
              "58589               34738     1       A    M1       CNG  ...              No   \n",
              "58590                8794     1      B2    M6    Petrol  ...             Yes   \n",
              "58591                8794     3      C2    M4    Diesel  ...             Yes   \n",
              "\n",
              "      is_power_door_locks is_central_locking  is_power_steering  \\\n",
              "0                      No                 No                Yes   \n",
              "1                      No                 No                Yes   \n",
              "2                      No                 No                Yes   \n",
              "3                     Yes                Yes                Yes   \n",
              "4                     Yes                Yes                Yes   \n",
              "...                   ...                ...                ...   \n",
              "58587                 Yes                Yes                Yes   \n",
              "58588                  No                 No                Yes   \n",
              "58589                  No                 No                Yes   \n",
              "58590                 Yes                Yes                Yes   \n",
              "58591                 Yes                Yes                Yes   \n",
              "\n",
              "      is_driver_seat_height_adjustable is_day_night_rear_view_mirror is_ecw  \\\n",
              "0                                   No                            No     No   \n",
              "1                                   No                            No     No   \n",
              "2                                   No                            No     No   \n",
              "3                                  Yes                           Yes    Yes   \n",
              "4                                   No                           Yes    Yes   \n",
              "...                                ...                           ...    ...   \n",
              "58587                               No                           Yes    Yes   \n",
              "58588                               No                            No     No   \n",
              "58589                               No                            No     No   \n",
              "58590                              Yes                           Yes    Yes   \n",
              "58591                              Yes                            No    Yes   \n",
              "\n",
              "      is_speed_alert ncap_rating is_claim  \n",
              "0                Yes           0        0  \n",
              "1                Yes           0        0  \n",
              "2                Yes           0        0  \n",
              "3                Yes           2        0  \n",
              "4                Yes           2        0  \n",
              "...              ...         ...      ...  \n",
              "58587            Yes           2        0  \n",
              "58588            Yes           0        0  \n",
              "58589            Yes           0        0  \n",
              "58590            Yes           2        0  \n",
              "58591            Yes           3        0  \n",
              "\n",
              "[58592 rows x 44 columns]>"
            ]
          },
          "metadata": {},
          "execution_count": 16
        }
      ]
    },
    {
      "cell_type": "markdown",
      "source": [
        "##### Así, de acuerdo a esto, las variables que podrían influir en el modelo predictivo serían:\n",
        "\n",
        "* is_claim: Variable objetivo (indica si el asegurado realiza un reclamo en los siguientes 6 meses o no), \n",
        "* policy_id: Número de póliza, \n",
        "* age_of_car: Antiguedad normalizada del auto en años, \n",
        "* age_of_policyholder: Edad normalizada del auto en años,\n",
        "* area_cluster: Área cluster del asegurado, \n",
        "* population_density: Densidad de población de la ciudad, \n",
        "* make: Código del fabricante, \n",
        "* model: Códido del modelo del auto,\n",
        "* engine_type: Tipo de motor del auto,\n",
        "* fuel_type: Tipo de gasolina,\n",
        "* airbags: Número de bolsas de aire,\n",
        "* transmission_type: Automático o Manual, \n",
        "* gear_box: Número de caja de cambios, \n"
      ],
      "metadata": {
        "id": "v6CRUubGySg8"
      }
    }
  ]
}